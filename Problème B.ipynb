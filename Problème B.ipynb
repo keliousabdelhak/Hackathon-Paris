{
 "cells": [
  {
   "cell_type": "markdown",
   "metadata": {},
   "source": [
    "Veuillez inidquer votre réponse pour le problème B"
   ]
  },
  {
   "cell_type": "code",
   "execution_count": null,
   "metadata": {},
   "outputs": [],
   "source": [
    "liste_entree=[]\n",
    "\n",
    "condition= True\n",
    "while condition == True:\n",
    "\tentree=input(\"Donnez une valeur :\")\n",
    "\tif entree!= \"done\":\n",
    "\t\tliste_entree.append(int(entree))\n",
    "\telse:\n",
    "\t\tbreak\n",
    "\n",
    "\n",
    "def mean(la_liste):\n",
    "\tx=0\n",
    "\tfor i in la_liste:\n",
    "\t\tx+=i\n",
    "\treturn x/len(la_liste) \n",
    "\n",
    "print(\"la plus grande valeur est : \", max(liste_entree))\n",
    "print(\"La plus petitevaleur est : \", min(liste_entree))\n",
    "print(\"La moyenne des valeurs est : \", mean(liste_entree))"
   ]
  },
  {
   "cell_type": "code",
   "execution_count": null,
   "metadata": {},
   "outputs": [],
   "source": []
  }
 ],
 "metadata": {
  "kernelspec": {
   "display_name": "Python 3",
   "language": "python",
   "name": "python3"
  },
  "language_info": {
   "codemirror_mode": {
    "name": "ipython",
    "version": 3
   },
   "file_extension": ".py",
   "mimetype": "text/x-python",
   "name": "python",
   "nbconvert_exporter": "python",
   "pygments_lexer": "ipython3",
   "version": "3.7.4"
  }
 },
 "nbformat": 4,
 "nbformat_minor": 2
}
