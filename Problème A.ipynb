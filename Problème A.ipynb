{
 "cells": [
  {
   "cell_type": "markdown",
   "metadata": {},
   "source": [
    "Veuillez inidquer votre réponse pour le problème A"
   ]
  },
  {
   "cell_type": "code",
   "execution_count": null,
   "metadata": {},
   "outputs": [],
   "source": [
    "def mention(n):\n",
    "\tif n < 10:\n",
    "\t\tprint(\"refuse\")\n",
    "\telif 10 <= n <= 11.99:\n",
    "\t\tprint(\"passable\")\n",
    "\telif 12 <= n <= 13.99:\n",
    "\t\tprint(\"Assez Bien\")\n",
    "\telif 14 <= n <= 15.99:\n",
    "\t\tprint(\"Bien\")\n",
    "\telif 16 <= n <= 17.99:\n",
    "\t\tprint(\"Très Bien\")\n",
    "\telif 18 <= n <= 20:\n",
    "\t\tprint(\"Excellent\")\n",
    "\n",
    "def main():\n",
    "\tmoyenne=float(input(\"saisir la moyenne de l'étudiant dont vous voulez avoir la mention\\n\"))\n",
    "\twhile not (0 <= moyenne <= 20):\n",
    "\t\tmoyenne=float(input(\"saisir la moyenne de l'étudiant pour trouver sa mention\\n\"))\n",
    "\tmention(moyenne)\n",
    "\n",
    "main()\n"
   ]
  },
  {
   "cell_type": "code",
   "execution_count": null,
   "metadata": {},
   "outputs": [],
   "source": []
  }
 ],
 "metadata": {
  "kernelspec": {
   "display_name": "Python 3",
   "language": "python",
   "name": "python3"
  },
  "language_info": {
   "codemirror_mode": {
    "name": "ipython",
    "version": 3
   },
   "file_extension": ".py",
   "mimetype": "text/x-python",
   "name": "python",
   "nbconvert_exporter": "python",
   "pygments_lexer": "ipython3",
   "version": "3.7.3"
  }
 },
 "nbformat": 4,
 "nbformat_minor": 2
}
