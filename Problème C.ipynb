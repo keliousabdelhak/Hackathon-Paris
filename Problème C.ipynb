{
 "cells": [
  {
   "cell_type": "markdown",
   "metadata": {},
   "source": [
    "Veuillez inidquer votre réponse pour le problème C"
   ]
  },
  {
   "cell_type": "code",
   "execution_count": null,
   "metadata": {},
   "outputs": [],
   "source": [
    "def mettreMotPasse():\n",
    "\tmotDePasse=str(input(\"SVP saisir votre mot de passe\\n\"))\n",
    "\twhile len(motDePasse)<8 or not (65<=ord(motDePasse[0])<=90 or 97<=ord(motDePasse[0])<=122):\n",
    "\t\tmotDePasse=str(input(\"SVP saisir votre mot de passe\\n\"))\n",
    "\treturn motDePasse\n",
    "\n",
    "def tailleMotDePasse(mpass):\n",
    "\t\treturn \"Longueur du mot de passe : {}\".format(len(mpass))\n",
    "\n",
    "def nbralphachar(mpass):\n",
    "\tnombre=0\n",
    "\tfor caractere in mpass:\n",
    "\t\tif 65<=ord(caractere)<=90:\n",
    "\t\t\tnombre+=1\n",
    "\t\telif 97<=ord(caractere)<=122:\n",
    "\t\t\tnombre+=1\n",
    "\treturn \"Nombre de caractère alphabétiques : {}\".format(nombre)\n",
    "\n",
    "def nbrCharNumerique(mpass):\n",
    "\tnombre=0\n",
    "\tfor caractere in mpass:\n",
    "\t\tif 48<=ord(caractere)<=57:\n",
    "\t\t\tnombre+=1\n",
    "\treturn \"Nombre de caractères numériques : {}\".format(nombre)\n",
    "\n",
    "def sequence(mpass):\n",
    "\tsequence=str()\n",
    "\tfor index in range(len(mpass)):\n",
    "\t\tif 48<=ord(mpass[index])<=57:\n",
    "\t\t\tnextNumber = mpass.find(chr(ord(mpass[index])+1))\n",
    "\t\t\tpreviousNumber = mpass.find(chr(ord(mpass[index])-1))\n",
    "\t\t\tif nextNumber==index+1:\n",
    "\t\t\t\tsequence += mpass[index]\n",
    "\t\t\telif previousNumber==index-1:\n",
    "\t\t\t\tsequence += mpass[index]\n",
    "\tif len(sequence)>1:\n",
    "\t\treturn \"Présence de séquence : Vrai ({})\".format(sequence)\n",
    "\telse :\n",
    "\t\treturn \"Présence de séquence : Faux\"\n",
    "\n",
    "def charConsucutifsDupliques(mpass):\n",
    "\tsequence=str()\n",
    "\tfor i in range(0,len(mpass)):\n",
    "\t\tnextRecurrence = mpass.find(mpass[i],i+1)\n",
    "\t\tif i+1==nextRecurrence or mpass[i-1]==mpass[i]:\n",
    "\t\t\tsequence+=mpass[i]\n",
    "\tif len(sequence)>1:\n",
    "\t\treturn \"eresence de caractères consécutifs et dupliqué : vrai {}\".format(sequence)\n",
    "\telse :\n",
    "\t\treturn \"Présence de caractères consécutifs et dupliqué : faux\"\n",
    "\n",
    "def affiche():\n",
    "\tmpass = mettreMotPasse()\n",
    "\tprint(tailleMotDePasse(mpass))\n",
    "\tprint(nbralphachar(mpass))\n",
    "\tprint(nbrCharNumerique(mpass))\n",
    "\tprint(sequence(mpass))\n",
    "\tprint(charConsucutifsDupliques(mpass))\n",
    "\n",
    "affiche()"
   ]
  },
  {
   "cell_type": "code",
   "execution_count": null,
   "metadata": {},
   "outputs": [],
   "source": []
  }
 ],
 "metadata": {
  "kernelspec": {
   "display_name": "Python 3",
   "language": "python",
   "name": "python3"
  },
  "language_info": {
   "codemirror_mode": {
    "name": "ipython",
    "version": 3
   },
   "file_extension": ".py",
   "mimetype": "text/x-python",
   "name": "python",
   "nbconvert_exporter": "python",
   "pygments_lexer": "ipython3",
   "version": "3.7.4"
  }
 },
 "nbformat": 4,
 "nbformat_minor": 2
}
