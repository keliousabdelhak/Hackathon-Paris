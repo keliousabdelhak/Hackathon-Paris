{
 "cells": [
  {
   "cell_type": "markdown",
   "metadata": {},
   "source": [
    "Veuillez inidquer votre réponse pour le problème D"
   ]
  },
  {
   "cell_type": "code",
   "execution_count": 1,
   "metadata": {},
   "outputs": [
    {
     "name": "stdout",
     "output_type": "stream",
     "text": [
      "Question 1 :\n",
      "les index 1er version :\n",
      "  {'je': 3, 'suis': 1, 'en': 2, 'examen': 1, 'de': 1, 'capteur': 2, 'normalement': 1}\n",
      "\n",
      "\n",
      "Question 2 :\n",
      "les index 2eme version :\n",
      "  {'je': 3, 'suis': 1, 'en': 2, 'examen': 1, 'capteur': 2, 'normalement': 1}\n",
      "\n",
      "\n",
      "Question 3\n",
      "f1.txt   je   5\n",
      "f1.txt   suis   2\n",
      "f1.txt   en   2\n",
      "f1.txt   examen   1\n",
      "f1.txt   capteur   2\n",
      "f1.txt   normalement   1\n",
      "f1.txt   perfection   1\n",
      "f1.txt   si   1\n",
      "f2.txt   je   5\n",
      "f2.txt   suis   2\n",
      "f2.txt   en   2\n",
      "f2.txt   examen   1\n",
      "f2.txt   capteur   2\n",
      "f2.txt   normalement   1\n",
      "f2.txt   perfection   1\n",
      "f2.txt   si   1\n",
      "f2.txt   j'adore   1\n",
      "f2.txt   python   1\n",
      "f2.txt   hey   1\n",
      "f2.txt   man   1\n"
     ]
    }
   ],
   "source": [
    "import os\n",
    "les_index={}\n",
    "les_index_version_2={}\n",
    "liste_des_mots=[]\n",
    "mots_vides=[\"le\", \"la\",\"les\",\"de\",\"dans\", \"à\", \"après\",\"assez\",\"aucun\",\"celui\", \"ces\",\"cependant\",\"devant\"]\n",
    "\n",
    "def TermFrequency(txt):\n",
    "\tf=open(txt)\n",
    "\tli=[]\n",
    "\tfor line in f :\n",
    "\t\tma_line=line.rstrip()\n",
    "\t\tli+=list(ma_line.split(\" \"))\n",
    "\t\n",
    "\tfor i in li :\n",
    "\t\tif i not in les_index:\n",
    "\t\t\tles_index[i]=1\n",
    "\t\telse :\n",
    "\t\t\tles_index[i]+=1\n",
    "\n",
    "\tfor i in les_index:\n",
    "\t\tif i not in mots_vides:\n",
    "\t\t\tles_index_version_2[i]=les_index[i]\n",
    "\n",
    "\treturn les_index_version_2\n",
    "\n",
    "\n",
    "TermFrequency(\"le_texte.txt\")\n",
    "\n",
    "print(\"Question 1 :\")\n",
    "print(\"les index 1er version :\\n \",les_index)\n",
    "print(\"\\n\")\n",
    "\n",
    "print(\"Question 2 :\")\n",
    "print(\"les index 2eme version :\\n \",les_index_version_2)\n",
    "\n",
    "def indexer_Repertoire(rep):\t\n",
    "\tfor fichier in os.listdir(rep):\n",
    "\t\tlink=rep+\"/\"+fichier\n",
    "\t\tles_index=TermFrequency(link)\n",
    "\t\tfor i in les_index:\n",
    "\t\t\tprint(fichier,\" \",i,\" \",les_index[i])\n",
    "\n",
    "print(\"\\n\")\n",
    "print(\"Question 3\")\n",
    "indexer_Repertoire(\"dos\")"
   ]
  },
  {
   "cell_type": "code",
   "execution_count": null,
   "metadata": {},
   "outputs": [],
   "source": []
  }
 ],
 "metadata": {
  "kernelspec": {
   "display_name": "Python 3",
   "language": "python",
   "name": "python3"
  },
  "language_info": {
   "codemirror_mode": {
    "name": "ipython",
    "version": 3
   },
   "file_extension": ".py",
   "mimetype": "text/x-python",
   "name": "python",
   "nbconvert_exporter": "python",
   "pygments_lexer": "ipython3",
   "version": "3.7.4"
  }
 },
 "nbformat": 4,
 "nbformat_minor": 2
}
