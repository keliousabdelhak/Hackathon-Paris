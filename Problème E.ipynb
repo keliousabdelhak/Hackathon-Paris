{
 "cells": [
  {
   "cell_type": "markdown",
   "metadata": {},
   "source": [
    "Veuillez inidquer votre réponse pour le problème E"
   ]
  },
  {
   "cell_type": "code",
   "execution_count": 1,
   "metadata": {},
   "outputs": [
    {
     "name": "stdout",
     "output_type": "stream",
     "text": [
      "texte a crypter :\n",
      "[['E', 4], ['L', 11], ['I', 8], ['T', 19], ['E', 4], ['C', 2], ['H', 7], [' ', ' '], ['C', 2], ['O', 14], ['N', 13], ['T', 19], ['E', 4], ['S', 18], ['T', 19]]\n",
      "\n",
      "\n",
      "la cle de cryptage :\n",
      "[['A', 0], ['N', 13], ['I', 8], ['S', 18], [' ', 0], [' ', 13], [' ', 8], [' ', 18], [' ', 0], [' ', 13], [' ', 8], [' ', 18], [' ', 0], [' ', 13], [' ', 8]]\n",
      "\n",
      "\n",
      "texte chiffré :\n",
      "[[4, 'E'], [24, 'Y'], [16, 'Q'], [11, 'L'], [4, 'E'], [15, 'P'], [15, 'P'], [' ', ' '], [2, 'C'], [1, 'B'], [21, 'V'], [11, 'L'], [4, 'E'], [5, 'F'], [1, 'B']]\n",
      "\n",
      "\n",
      "texte avant cryptage : ELITECH CONTEST\n",
      "texte après cryptage : EYQLEPP CBVLEFB\n"
     ]
    }
   ],
   "source": [
    "alphabet=[\"A\",\"B\",\"C\",\"D\",\"E\",\"F\",\"G\",\"H\",\"I\",\"J\",\"K\",\"L\",\"M\",\"N\",\"O\",\"P\",\"Q\",\"R\",\"S\",\"T\",\"U\",\"V\",\"W\",\"X\",\"Y\",\"Z\"]\n",
    "\n",
    "def crypter(txt):\n",
    "\ttxt_chiffre=\"\"\n",
    "\tfor i in txt:\n",
    "\t\ttxt_chiffre+=alphabet[alphabet.index(i)+10]\n",
    "\treturn txt_chiffre\n",
    "\n",
    "\n",
    "\n",
    "tableau_txt=[]\n",
    "def text_a_crypter(txt):\n",
    "\tfor i in txt:\n",
    "\t\ttry:\n",
    "\t\t\ttableau_txt.append([i,alphabet.index(i)])\n",
    "\t\texcept:\n",
    "\t\t\ttableau_txt.append([i,\" \"])\n",
    "\treturn tableau_txt\n",
    "\n",
    "\n",
    "\n",
    "\n",
    "tableau_cle=[]\n",
    "def cle(txt):\n",
    "\tfor i in txt:\n",
    "\t\ttableau_cle.append([i,alphabet.index(i)])\n",
    "\tt=len(tableau_txt)-len(tableau_cle)\n",
    "\tk=0\n",
    "\tind=0\n",
    "\twhile k<t:\n",
    "\t\ttableau_cle.append([\" \",alphabet.index(tableau_cle[ind][0])])\n",
    "\t\tif ind < 3:\n",
    "\t\t\tind+=1\n",
    "\t\telse:\n",
    "\n",
    "\t\t\tind=0\n",
    "\t\tk+=1\n",
    "\treturn tableau_cle\n",
    "\n",
    "\n",
    "tableau_crypt=[]\n",
    "tab=[]\n",
    "def crypter_cle(txt,clem):\n",
    "\ttext=text_a_crypter(txt)\n",
    "\tclee=cle(clem)\n",
    "\tsup=0\n",
    "\tfor i in text:\n",
    "\t\ttab.append([i,clee[sup]])\n",
    "\t\tsup+=1\n",
    "\n",
    "\tfor i in tab:\n",
    "\t\ttry:\n",
    "\t\t\tif i[0][1]+i[1][1]<=26:\n",
    "\t\t\t\ttableau_crypt.append([i[0][1]+i[1][1],alphabet[i[0][1]+i[1][1]]])\n",
    "\t\t\telif i[0][1]+i[1][1]>26:\n",
    "\t\t\t\ttableau_crypt.append([i[0][1]+i[1][1]-26,alphabet[i[0][1]+i[1][1]-26]])\n",
    "\t\texcept:\n",
    "\t\t\ttableau_crypt.append([\" \",\" \"])\n",
    "\n",
    "\n",
    "la_clee=\"ANIS\"\n",
    "le_texte=\"ELITECH CONTEST\"\n",
    "crypter_cle(le_texte,la_clee)\n",
    "print(\"texte a crypter :\")\n",
    "print(tableau_txt)\n",
    "print(\"\\n\")\n",
    "print(\"la cle de cryptage :\")\n",
    "print(tableau_cle)\n",
    "print(\"\\n\")\n",
    "print(\"texte chiffré :\")\n",
    "print(tableau_crypt)\n",
    "print(\"\\n\")\n",
    "\n",
    "txt_crypt=\"\"\n",
    "for i in tableau_crypt:\n",
    "\ttxt_crypt+=i[1]\n",
    "\n",
    "print(\"texte avant cryptage :\",le_texte)\n",
    "print(\"texte après cryptage :\",txt_crypt)"
   ]
  },
  {
   "cell_type": "code",
   "execution_count": null,
   "metadata": {},
   "outputs": [],
   "source": []
  }
 ],
 "metadata": {
  "kernelspec": {
   "display_name": "Python 3",
   "language": "python",
   "name": "python3"
  },
  "language_info": {
   "codemirror_mode": {
    "name": "ipython",
    "version": 3
   },
   "file_extension": ".py",
   "mimetype": "text/x-python",
   "name": "python",
   "nbconvert_exporter": "python",
   "pygments_lexer": "ipython3",
   "version": "3.7.4"
  }
 },
 "nbformat": 4,
 "nbformat_minor": 2
}
